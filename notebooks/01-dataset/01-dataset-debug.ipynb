{
 "cells": [
  {
   "cell_type": "code",
   "execution_count": null,
   "id": "c416d006-52c7-4d62-8938-57ad92fe10cf",
   "metadata": {
    "tags": []
   },
   "outputs": [],
   "source": [
    "from aann.dataset import Dataset\n",
    "from aann.utils.image import cv2pil, scale_image"
   ]
  },
  {
   "cell_type": "code",
   "execution_count": null,
   "id": "5cffa3d6-397d-4fa4-bb74-c3e3f0f48c14",
   "metadata": {
    "tags": []
   },
   "outputs": [],
   "source": [
    "def show_image(dataset_item: dict):\n",
    "    image = dataset_item[\"img_features\"].numpy()\n",
    "    image = (image * 200).astype(\"uint8\")\n",
    "    image = image.reshape(8, 8)\n",
    "    print(f\"########### class: {dataset_item['y']} ###########\")\n",
    "    display(cv2pil(scale_image(image, (256, 256))))"
   ]
  },
  {
   "cell_type": "code",
   "execution_count": null,
   "id": "dc20e40a-7bad-41e0-866a-7bc2773e4bad",
   "metadata": {
    "tags": []
   },
   "outputs": [],
   "source": [
    "dataset = Dataset()\n",
    "dataset.load()"
   ]
  },
  {
   "cell_type": "code",
   "execution_count": null,
   "id": "7f3c8d80-66a7-4fa2-aa9b-cc83217c1821",
   "metadata": {
    "tags": []
   },
   "outputs": [],
   "source": [
    "train_iter = iter(dataset.train)"
   ]
  },
  {
   "cell_type": "code",
   "execution_count": null,
   "id": "eba9ed82-42eb-4ee0-9f3d-7fa3a0d0d741",
   "metadata": {
    "tags": []
   },
   "outputs": [],
   "source": [
    "show_image(next(train_iter))"
   ]
  },
  {
   "cell_type": "code",
   "execution_count": null,
   "id": "277cf1b3-c6b6-4685-a0a6-c8e9dba7b287",
   "metadata": {},
   "outputs": [],
   "source": []
  }
 ],
 "metadata": {
  "kernelspec": {
   "display_name": "Python 3 (ipykernel)",
   "language": "python",
   "name": "python3"
  },
  "language_info": {
   "codemirror_mode": {
    "name": "ipython",
    "version": 3
   },
   "file_extension": ".py",
   "mimetype": "text/x-python",
   "name": "python",
   "nbconvert_exporter": "python",
   "pygments_lexer": "ipython3",
   "version": "3.10.6"
  }
 },
 "nbformat": 4,
 "nbformat_minor": 5
}
