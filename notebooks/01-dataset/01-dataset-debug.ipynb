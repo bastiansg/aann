{
 "cells": [
  {
   "cell_type": "code",
   "execution_count": null,
   "id": "c416d006-52c7-4d62-8938-57ad92fe10cf",
   "metadata": {
    "tags": []
   },
   "outputs": [],
   "source": [
    "from itertools import combinations\n",
    "\n",
    "from aann.dataset import Dataset\n",
    "from aann.utils.image import cv2pil, scale_image"
   ]
  },
  {
   "cell_type": "code",
   "execution_count": null,
   "id": "5cffa3d6-397d-4fa4-bb74-c3e3f0f48c14",
   "metadata": {
    "tags": []
   },
   "outputs": [],
   "source": [
    "def show_image(dataset_item: dict):\n",
    "    image = dataset_item[\"img_features\"].numpy()\n",
    "    image = (image * 200).astype(\"uint8\")\n",
    "    image = image.reshape(8, 8)\n",
    "    print(f\"########### class: {dataset_item['y']} ###########\")\n",
    "    display(cv2pil(scale_image(image, (256, 256))))"
   ]
  },
  {
   "cell_type": "code",
   "execution_count": null,
   "id": "7df1e8e7-6457-45bd-a42e-064b34185fc4",
   "metadata": {},
   "outputs": [],
   "source": [
    "def get_overlap(comb: tuple[dict]) -> int:\n",
    "    images = [item[\"img_features\"].numpy() for item in comb]"
   ]
  },
  {
   "cell_type": "code",
   "execution_count": null,
   "id": "dc20e40a-7bad-41e0-866a-7bc2773e4bad",
   "metadata": {
    "tags": []
   },
   "outputs": [],
   "source": [
    "dataset = Dataset(\n",
    "    items_per_class=1,\n",
    "    shuffle=False\n",
    ")\n",
    "\n",
    "dataset.load()"
   ]
  },
  {
   "cell_type": "code",
   "execution_count": null,
   "id": "7f3c8d80-66a7-4fa2-aa9b-cc83217c1821",
   "metadata": {
    "tags": []
   },
   "outputs": [],
   "source": [
    "train_iter = iter(dataset.train)"
   ]
  },
  {
   "cell_type": "code",
   "execution_count": null,
   "id": "a5f1208b-e0c5-4054-953f-8614279ae6a0",
   "metadata": {
    "tags": []
   },
   "outputs": [],
   "source": [
    "combs = list(combinations(train_iter, 4))\n",
    "print(f\"combs => {len(combs)}\")"
   ]
  },
  {
   "cell_type": "code",
   "execution_count": null,
   "id": "734c71f0-1f3f-4a9d-b26a-56d937c34787",
   "metadata": {
    "tags": []
   },
   "outputs": [],
   "source": [
    "combs[0][0][\"img_features\"].numpy()"
   ]
  },
  {
   "cell_type": "code",
   "execution_count": null,
   "id": "7a0e9832-1956-4eea-892b-a058b40ea58f",
   "metadata": {
    "tags": []
   },
   "outputs": [],
   "source": [
    "dataset_item = next(train_iter)"
   ]
  }
 ],
 "metadata": {
  "kernelspec": {
   "display_name": "Python 3 (ipykernel)",
   "language": "python",
   "name": "python3"
  },
  "language_info": {
   "codemirror_mode": {
    "name": "ipython",
    "version": 3
   },
   "file_extension": ".py",
   "mimetype": "text/x-python",
   "name": "python",
   "nbconvert_exporter": "python",
   "pygments_lexer": "ipython3",
   "version": "3.10.6"
  }
 },
 "nbformat": 4,
 "nbformat_minor": 5
}
