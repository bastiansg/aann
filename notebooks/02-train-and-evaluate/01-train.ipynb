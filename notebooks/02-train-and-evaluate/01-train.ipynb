{
 "cells": [
  {
   "cell_type": "code",
   "execution_count": null,
   "id": "b2e3994a-e5a3-41bb-9311-82eb11db2345",
   "metadata": {
    "tags": []
   },
   "outputs": [],
   "source": [
    "import matplotlib\n",
    "\n",
    "import numpy as np\n",
    "import networkx as nx\n",
    "import graph_tool.all as gt\n",
    "\n",
    "from aann.dataset import Dataset\n",
    "from aann.utils.graph import get_model_graph, nx2gt\n",
    "\n",
    "from aann.models import SimpleModel\n",
    "from aann.utils.image import cv2pil, scale_image"
   ]
  },
  {
   "cell_type": "code",
   "execution_count": null,
   "id": "4acc54dc-f3e5-4ec1-a53f-60676647c8bc",
   "metadata": {
    "tags": []
   },
   "outputs": [],
   "source": [
    "def show_image(dataset_item: dict):\n",
    "    image = dataset_item[\"img_features\"].numpy()\n",
    "    image = (image * 128).astype(\"uint8\")\n",
    "    image = image.reshape(8, 8)\n",
    "    display(cv2pil(scale_image(image, (256, 256))))"
   ]
  },
  {
   "cell_type": "code",
   "execution_count": null,
   "id": "e7e8a42c-41f7-4ba9-92c1-9fe9b04b6781",
   "metadata": {
    "tags": []
   },
   "outputs": [],
   "source": [
    "def show_graph(gt_graph: gt.Graph):\n",
    "    state = gt.minimize_nested_blockmodel_dl(\n",
    "        gt_graph,\n",
    "        state_args=dict(clabel=gt_graph.vp.layer)\n",
    "    )\n",
    "\n",
    "    _ = state.draw(\n",
    "        bg_color=\"black\",\n",
    "        # vertex_text=gt_graph.vp.neuron,\n",
    "        vertex_fill_color=gt_graph.vp.layer,\n",
    "        output_size=(768, 768),\n",
    "        beta=0.5,\n",
    "        rel_order=gt_graph.vp.neuron,\n",
    "        vcmap=(matplotlib.cm.Set3, 1.0),\n",
    "        edge_gradient=[],\n",
    "        edge_color=gt.prop_to_size(gt_graph.ep.weight, power=2),\n",
    "        ecmap=(matplotlib.cm.magma, 1.0),\n",
    "    )"
   ]
  },
  {
   "cell_type": "code",
   "execution_count": null,
   "id": "2a212b33-dcd1-42a7-9311-9b07f9737639",
   "metadata": {
    "tags": []
   },
   "outputs": [],
   "source": [
    "def get_node_map_by_layer(nx_graph: nx.DiGraph, layer: int) -> dict:\n",
    "    node_map = {\n",
    "        data[\"neuron\"]: node for node, data in nx_graph.nodes(data=True)\n",
    "        if data[\"layer\"] == layer\n",
    "    }\n",
    "\n",
    "    return node_map"
   ]
  },
  {
   "cell_type": "code",
   "execution_count": null,
   "id": "15f08c4f-9509-487f-858d-b6f7abd3f3f6",
   "metadata": {
    "tags": []
   },
   "outputs": [],
   "source": [
    "dataset = Dataset()\n",
    "dataset.load()"
   ]
  },
  {
   "cell_type": "code",
   "execution_count": null,
   "id": "d4ee2f78-97b6-40c4-a6ad-50ae54ef43f0",
   "metadata": {
    "tags": []
   },
   "outputs": [],
   "source": [
    "model = SimpleModel(\n",
    "    num_in_features=dataset.num_in_features,\n",
    "    num_classes=dataset.num_classes,\n",
    ")"
   ]
  },
  {
   "cell_type": "code",
   "execution_count": null,
   "id": "1d8cfb77-c7ae-4d43-b1b3-1647aa0b6462",
   "metadata": {
    "tags": []
   },
   "outputs": [],
   "source": [
    "# model.train(train_dp_dataset=dataset.train)\n",
    "# model.save()"
   ]
  },
  {
   "cell_type": "code",
   "execution_count": null,
   "id": "2d0fc63e-fe61-44f1-b11c-7266f704b7e0",
   "metadata": {
    "tags": []
   },
   "outputs": [],
   "source": [
    "model.load()\n",
    "model.model"
   ]
  },
  {
   "cell_type": "code",
   "execution_count": null,
   "id": "07ae7e33-7493-4851-b781-038bcf165bc5",
   "metadata": {
    "tags": []
   },
   "outputs": [],
   "source": [
    "nx_graph = get_model_graph(model, min_weight=0.6)\n",
    "\n",
    "print(f\"nodes: {nx_graph.number_of_nodes()}\")\n",
    "print(f\"edges: {nx_graph.number_of_edges()}\")"
   ]
  },
  {
   "cell_type": "code",
   "execution_count": null,
   "id": "441c6dd2-70e8-4af2-abf3-182d79cbd3e9",
   "metadata": {
    "tags": []
   },
   "outputs": [],
   "source": [
    "gt_graph = nx2gt(nx_graph)"
   ]
  },
  {
   "cell_type": "code",
   "execution_count": null,
   "id": "c79fef00-6c89-4d8a-a3d8-9d2ee530faf1",
   "metadata": {
    "tags": []
   },
   "outputs": [],
   "source": [
    "show_graph(gt_graph)"
   ]
  },
  {
   "cell_type": "code",
   "execution_count": null,
   "id": "b6f07360-b8e9-474b-bf36-4fea410bba16",
   "metadata": {
    "tags": []
   },
   "outputs": [],
   "source": [
    "# sorted(data[\"weight\"] for *_, data in nx_graph.edges(data=True))"
   ]
  },
  {
   "cell_type": "code",
   "execution_count": null,
   "id": "b5426526-6bf5-4d53-a2a2-cfda43775dde",
   "metadata": {
    "tags": []
   },
   "outputs": [],
   "source": [
    "l1_node_map = get_node_map_by_layer(nx_graph, 0)\n",
    "l2_node_map = get_node_map_by_layer(nx_graph, 1)\n",
    "l2_node_map"
   ]
  },
  {
   "cell_type": "code",
   "execution_count": null,
   "id": "eccaf90e-2c1d-4e01-82f9-0b80ae8df13e",
   "metadata": {
    "tags": []
   },
   "outputs": [],
   "source": [
    "train_iter = iter(dataset.train)"
   ]
  },
  {
   "cell_type": "code",
   "execution_count": null,
   "id": "9d969f7b-f951-4555-bf4d-c3b4b813e70e",
   "metadata": {
    "tags": []
   },
   "outputs": [],
   "source": [
    "dataset_item = next(train_iter)\n",
    "pred, confs = model.dataset_item_predict(dataset_item)\n",
    "show_image(dataset_item)\n",
    "\n",
    "print(f\"class:      {dataset_item['y']}\")\n",
    "print(f\"pred_class: {pred}\")\n",
    "print(f\"confs:      {confs.astype('float16')}\")\n",
    "\n",
    "image = dataset_item[\"img_features\"].numpy().astype(\"uint8\")\n",
    "non_zero_idx = np.nonzero(image)[0]\n",
    "\n",
    "l1_active_nodes = [l1_node_map[idx] for idx in non_zero_idx]\n",
    "l2_path_cnt = {\n",
    "    num_class: sum(\n",
    "        len(list(nx.all_simple_paths(nx_graph, l1_node, class_node)))\n",
    "        for l1_node in l1_active_nodes\n",
    "    ) for num_class, class_node in l2_node_map.items()\n",
    "}\n",
    "\n",
    "l2_path_cnt"
   ]
  },
  {
   "cell_type": "code",
   "execution_count": null,
   "id": "f5bdb998-8cc1-44d2-bb91-9cb5f54937cf",
   "metadata": {},
   "outputs": [],
   "source": []
  }
 ],
 "metadata": {
  "kernelspec": {
   "display_name": "Python 3 (ipykernel)",
   "language": "python",
   "name": "python3"
  },
  "language_info": {
   "codemirror_mode": {
    "name": "ipython",
    "version": 3
   },
   "file_extension": ".py",
   "mimetype": "text/x-python",
   "name": "python",
   "nbconvert_exporter": "python",
   "pygments_lexer": "ipython3",
   "version": "3.10.6"
  }
 },
 "nbformat": 4,
 "nbformat_minor": 5
}
